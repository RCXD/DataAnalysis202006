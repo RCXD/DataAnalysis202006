{
 "cells": [
  {
   "cell_type": "code",
   "execution_count": 2,
   "metadata": {},
   "outputs": [],
   "source": [
    "import warnings\n",
    "warnings.filterwarnings(\"ignore\")\n",
    "from IPython.display import Image\n",
    "import numpy as np\n",
    "import pandas as pd\n",
    "import matplotlib as mpl\n",
    "import matplotlib.pyplot as plt\n",
    "plt.rcParams[\"font.size\"] = 18\n",
    "plt.rcParams[\"font.family\"] = \"NanumGothicCoding\"\n",
    "mpl.rcParams[\"axes.unicode_minus\"] = False\n",
    "import seaborn as sns\n",
    "%matplotlib inline\n",
    "import missingno as msno\n",
    "from plotnine import *"
   ]
  },
  {
   "cell_type": "code",
   "execution_count": 5,
   "metadata": {},
   "outputs": [],
   "source": [
    "# 따르릉 자전거 대여소 위치 크롤링\n",
    "import requests\n",
    "from bs4 import BeautifulSoup\n",
    "import time\n",
    "# !pip install tqdm\n",
    "from tqdm import tqdm"
   ]
  },
  {
   "cell_type": "code",
   "execution_count": 9,
   "metadata": {},
   "outputs": [
    {
     "name": "stderr",
     "output_type": "stream",
     "text": [
      "100%|███████████████████| 100/100 [00:10<00:00,  9.75it/s]\n"
     ]
    }
   ],
   "source": [
    "for i in tqdm(range(1, 101)):\n",
    "    time.sleep(0.1)"
   ]
  },
  {
   "cell_type": "code",
   "execution_count": 41,
   "metadata": {},
   "outputs": [],
   "source": [
    "# 따릉이 자전거 대여서 위치 크롤링 함수를 선언한다.\n",
    "# start => 크롤링 시작 페이지 번호, end => 크롤링 종료 페이지 번호\n",
    "def crawling_bike(start, end):\n",
    "    locations = [] # 대여소 정보 전체를 저장할 빈 리스트를 선언한다.\n",
    "    \n",
    "    # 기본 url => https://www.bikeseoul.com/app/station/moveStationSearchView.do?currentPageNo=\n",
    "    base_url = \"https://www.bikeseoul.com/app/station/moveStationSearchView.do?currentPageNo=\"\n",
    "    # 반복문으로 base_url에 페이지 번호만 추가하면 된다.\n",
    "    for num in tqdm(range(start, end + 1)):\n",
    "        \n",
    "        # 크롤링할 페이지의 url을 만든다.\n",
    "        # 파이썬은 문자열과 숫자의 연산이 불가능하므로 num을 문자열로 바꿔준다.\n",
    "        page = base_url + str(num)\n",
    "        # print(page)\n",
    "        \n",
    "        # 크롤링할 페이지의 정보를 얻어온다.\n",
    "        # 요청 url에 \"?\"를 사용해서 필요한 정보를 요청하는 방식은 get 방식이므로 get() 메소드를\n",
    "        # 사용해서 해당 페이지의 정보를 얻어온다.\n",
    "        request = requests.get(page)\n",
    "        # print(request) # <Response [200]>\n",
    "        html = request.text\n",
    "        # print(html)\n",
    "        # BeautifulSoup() 메소드를 사용해서 요청한 정보를 크롤링할 준비를 한다.\n",
    "        soup = BeautifulSoup(html, \"html.parser\")\n",
    "        # print(soup)\n",
    "        # 너무 빠르게 페이지 전환이 이루어지면 정보를 제대로 읽어오지 못하거나 대형 포털 사이트일\n",
    "        # 경우 공격을 당하는 것으로 오해할 수 있으므로 sleep() 메소드로 시간을 지연시킨다.\n",
    "        time.sleep(0.05)\n",
    "        \n",
    "        # 크롤링할 데이터가 들어있는 테이블로 접근해서 행 단위로 추출한다.\n",
    "        loc_table = soup.select(\"#container > table > tbody\")[0].findAll(\"tr\")\n",
    "        # loc_table = soup.select(\"#container > table > tbody\")[0].find_all(\"tr\")\n",
    "        # print(len(loc_table))\n",
    "        # print(loc_table)\n",
    "        \n",
    "        # 대여소 번호, 대여소 이름, 거치대수, 대여가능 거치대수, 주소, 위도, 경도\n",
    "        for row in loc_table[:1]:\n",
    "            print(row)\n",
    "            # 대여소 정보 1건을 저장할 빈 리스트를 선언한다.\n",
    "            loc_info = []\n",
    "\n",
    "            \n",
    "            \n",
    "            # \"1001. 광진교 남단 사거리(디지털프라자앞)\" => \"대여소번호. 대여소이름\"\n",
    "            print(row.split(\".\"))"
   ]
  },
  {
   "cell_type": "code",
   "execution_count": 42,
   "metadata": {},
   "outputs": [
    {
     "name": "stderr",
     "output_type": "stream",
     "text": [
      "  0%|                               | 0/1 [00:00<?, ?it/s]"
     ]
    },
    {
     "name": "stdout",
     "output_type": "stream",
     "text": [
      "<tr>\n",
      "<td class=\"pl10\"><a href=\"#\" param-data=\"37.54179382,127.12474823\">1001. 광진교 남단 사거리(디지털프라자앞)</a></td>\n",
      "<td class=\"pl10\">\r\n",
      "                        운영중</td>\n",
      "<td class=\"tr\">15</td>\n",
      "<td class=\"tr\">0</td>\n",
      "<td class=\"tbleft mhid\"><span>서울특별시 강동구 올림픽로 674 로석빌딩 </span></td>\n",
      "</tr>\n"
     ]
    },
    {
     "name": "stderr",
     "output_type": "stream",
     "text": [
      "\n"
     ]
    },
    {
     "ename": "TypeError",
     "evalue": "'NoneType' object is not callable",
     "output_type": "error",
     "traceback": [
      "\u001b[1;31m-----------------------------------------------------------\u001b[0m",
      "\u001b[1;31mTypeError\u001b[0m                 Traceback (most recent call last)",
      "\u001b[1;32m<ipython-input-42-f8cd9f9a54a6>\u001b[0m in \u001b[0;36m<module>\u001b[1;34m\u001b[0m\n\u001b[1;32m----> 1\u001b[1;33m \u001b[0mcrawling_bike\u001b[0m\u001b[1;33m(\u001b[0m\u001b[1;36m1\u001b[0m\u001b[1;33m,\u001b[0m \u001b[1;36m1\u001b[0m\u001b[1;33m)\u001b[0m\u001b[1;33m\u001b[0m\u001b[1;33m\u001b[0m\u001b[0m\n\u001b[0m",
      "\u001b[1;32m<ipython-input-41-e75df2f1cf5f>\u001b[0m in \u001b[0;36mcrawling_bike\u001b[1;34m(start, end)\u001b[0m\n\u001b[0;32m     41\u001b[0m \u001b[1;33m\u001b[0m\u001b[0m\n\u001b[0;32m     42\u001b[0m             \u001b[1;31m# \"1001. 광진교 남단 사거리(디지털프라자앞)\" => \"대여소번호. 대여소이름\"\u001b[0m\u001b[1;33m\u001b[0m\u001b[1;33m\u001b[0m\u001b[1;33m\u001b[0m\u001b[0m\n\u001b[1;32m---> 43\u001b[1;33m             \u001b[0mprint\u001b[0m\u001b[1;33m(\u001b[0m\u001b[0mrow\u001b[0m\u001b[1;33m.\u001b[0m\u001b[0msplit\u001b[0m\u001b[1;33m(\u001b[0m\u001b[1;34m\".\"\u001b[0m\u001b[1;33m)\u001b[0m\u001b[1;33m)\u001b[0m\u001b[1;33m\u001b[0m\u001b[1;33m\u001b[0m\u001b[0m\n\u001b[0m",
      "\u001b[1;31mTypeError\u001b[0m: 'NoneType' object is not callable"
     ]
    }
   ],
   "source": [
    "crawling_bike(1, 1)"
   ]
  },
  {
   "cell_type": "code",
   "execution_count": null,
   "metadata": {},
   "outputs": [],
   "source": []
  },
  {
   "cell_type": "code",
   "execution_count": null,
   "metadata": {},
   "outputs": [],
   "source": []
  },
  {
   "cell_type": "code",
   "execution_count": null,
   "metadata": {},
   "outputs": [],
   "source": []
  },
  {
   "cell_type": "code",
   "execution_count": null,
   "metadata": {},
   "outputs": [],
   "source": []
  },
  {
   "cell_type": "code",
   "execution_count": null,
   "metadata": {},
   "outputs": [],
   "source": []
  },
  {
   "cell_type": "code",
   "execution_count": null,
   "metadata": {},
   "outputs": [],
   "source": []
  }
 ],
 "metadata": {
  "kernelspec": {
   "display_name": "Python 3",
   "language": "python",
   "name": "python3"
  },
  "language_info": {
   "codemirror_mode": {
    "name": "ipython",
    "version": 3
   },
   "file_extension": ".py",
   "mimetype": "text/x-python",
   "name": "python",
   "nbconvert_exporter": "python",
   "pygments_lexer": "ipython3",
   "version": "3.6.8"
  }
 },
 "nbformat": 4,
 "nbformat_minor": 4
}
